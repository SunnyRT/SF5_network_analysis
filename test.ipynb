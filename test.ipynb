{
 "cells": [
  {
   "cell_type": "code",
   "execution_count": 1,
   "metadata": {},
   "outputs": [],
   "source": [
    "import matplotlib.pyplot as plt\n",
    "import numpy.matlib\n",
    "import numpy as np\n",
    "import scipy\n",
    "from scipy.cluster.hierarchy import DisjointSet\n",
    "from scipy.stats import truncnorm\n",
    "import math\n",
    "\n",
    "from network0_def import *\n",
    "from network1_config import *\n",
    "\n"
   ]
  },
  {
   "cell_type": "code",
   "execution_count": 3,
   "metadata": {},
   "outputs": [],
   "source": [
    "n=5\n",
    "k_mean = 2\n",
    "\n",
    "A = np.array([\n",
    "    [0, 0, 0, 1, 0],\n",
    "    [0, 0, 0, 1, 0],\n",
    "    [0, 0, 0, 0, 1],\n",
    "    [1, 1, 0, 0, 0],\n",
    "    [0, 0, 1, 0, 0]\n",
    "])\n",
    "network = Network(adj_m=A)"
   ]
  },
  {
   "cell_type": "code",
   "execution_count": 4,
   "metadata": {},
   "outputs": [
    {
     "name": "stdout",
     "output_type": "stream",
     "text": [
      "[[0 0 0 1 0]\n",
      " [0 0 0 1 0]\n",
      " [0 0 0 0 1]\n",
      " [1 1 0 0 0]\n",
      " [0 0 1 0 0]]\n",
      "[[0 3]\n",
      " [1 3]\n",
      " [2 4]]\n",
      "<class 'numpy.ndarray'>\n"
     ]
    }
   ],
   "source": [
    "A = network.adj_m\n",
    "edge_ls = network.edge_list()\n",
    "\n",
    "print(A)\n",
    "print(edge_ls)\n",
    "print(type(edge_ls))\n"
   ]
  },
  {
   "cell_type": "code",
   "execution_count": 5,
   "metadata": {},
   "outputs": [
    {
     "name": "stdout",
     "output_type": "stream",
     "text": [
      "[0. 0. 0.]\n"
     ]
    }
   ],
   "source": [
    "lambda_ = 0.5\n",
    "mask_states = np.zeros(len(edge_ls))\n",
    "print(mask_states)"
   ]
  },
  {
   "cell_type": "code",
   "execution_count": 6,
   "metadata": {},
   "outputs": [],
   "source": [
    "w_s, w_i, w_b = 0.4, 0.6, 0.8"
   ]
  },
  {
   "cell_type": "code",
   "execution_count": 7,
   "metadata": {},
   "outputs": [
    {
     "name": "stdout",
     "output_type": "stream",
     "text": [
      "[[3 0]\n",
      " [3 1]\n",
      " [4 2]]\n",
      "[[0 3]\n",
      " [1 3]\n",
      " [2 4]\n",
      " [3 0]\n",
      " [3 1]\n",
      " [4 2]]\n"
     ]
    }
   ],
   "source": [
    "edge_ls_reverse = np.flip(edge_ls, axis=1)\n",
    "edge_ls_double = np.concatenate((edge_ls, edge_ls_reverse), axis=0)\n",
    "print(edge_ls_reverse)\n",
    "print(edge_ls_double)\n",
    "\n",
    "infect_edges = np.array([1,0,1,1,1,0])\n"
   ]
  },
  {
   "cell_type": "code",
   "execution_count": 8,
   "metadata": {},
   "outputs": [
    {
     "name": "stdout",
     "output_type": "stream",
     "text": [
      "[[False False False False False]\n",
      " [False False False False False]\n",
      " [False False False False False]\n",
      " [False False False False False]\n",
      " [False False False False False]]\n"
     ]
    }
   ],
   "source": [
    "network_dir = Network_dir(n)\n",
    "print(network_dir.adj_m)"
   ]
  },
  {
   "cell_type": "code",
   "execution_count": 9,
   "metadata": {},
   "outputs": [],
   "source": [
    "# add each directed edge to network_dir based on the infection outcome\n",
    "for idx, edge in enumerate(edge_ls_double):\n",
    "    if infect_edges[idx] == 1:\n",
    "        network_dir.add_edge(edge[0], edge[1])"
   ]
  },
  {
   "cell_type": "code",
   "execution_count": 10,
   "metadata": {},
   "outputs": [
    {
     "name": "stdout",
     "output_type": "stream",
     "text": [
      "[[False False False  True False]\n",
      " [False False False False False]\n",
      " [False False False False  True]\n",
      " [ True  True False False False]\n",
      " [False False False False False]]\n",
      "{3}\n",
      "set()\n",
      "{4}\n",
      "{0, 1}\n",
      "set()\n",
      "[{3} set() {4} {0, 1} set()]\n"
     ]
    }
   ],
   "source": [
    "print(network_dir.adj_m)\n",
    "print(network_dir.neighbors_sink(0))\n",
    "print(network_dir.neighbors_sink(1))\n",
    "print(network_dir.neighbors_sink(2))\n",
    "print(network_dir.neighbors_sink(3))\n",
    "print(network_dir.neighbors_sink(4))\n",
    "\n",
    "print(network_dir.adj_ls)"
   ]
  },
  {
   "cell_type": "code",
   "execution_count": 11,
   "metadata": {},
   "outputs": [
    {
     "name": "stdout",
     "output_type": "stream",
     "text": [
      "[3. 1. 2. 3. 1.]\n"
     ]
    }
   ],
   "source": [
    "cluster_sizes = np.zeros(n)\n",
    "for i in range(n):\n",
    "    cluster_sizes[i] = network_dir.sink_size(i)\n",
    "\n",
    "print(cluster_sizes)"
   ]
  },
  {
   "cell_type": "code",
   "execution_count": 17,
   "metadata": {},
   "outputs": [],
   "source": [
    "def SIR_djset_mask_test(n, edge_ls, lambda_, mask_states, w):\n",
    "    \"\"\" For a single, fixed lambda value, run the SIR process on a network based on mask wearing \n",
    "    and return the average size of the final cluster.\n",
    "\n",
    "    Assume single seed node to be any node and average final cluster size over all nodes.\"\"\"\n",
    "\n",
    "    w_s, w_i, w_b = w\n",
    "\n",
    "    # create a double edge list which counts each edge twice in both directions.\n",
    "    # switch the two columns of the edge list to get the reverse edge list.\n",
    "    edge_ls_reverse = np.flip(edge_ls, axis=1)\n",
    "    # concatenate the two edge lists to get the double edge list.\n",
    "    edge_ls_double = np.concatenate((edge_ls, edge_ls_reverse), axis=0)\n",
    "\n",
    "    # create a Network_dir object with no edges\n",
    "    network_dir = Network_dir(n)\n",
    "\n",
    "\n",
    "\n",
    "    # Assign weight value to each edge based on the mask wearing state of the source node \n",
    "    # (single direction only)\n",
    "    w_edges = np.ones(edge_ls.shape[0])\n",
    "    for idx, edge in enumerate(edge_ls):\n",
    "        state_i = mask_states[edge[0]] # source node\n",
    "        state_j = mask_states[edge[1]] # sink node\n",
    "\n",
    "        if state_i == 0:\n",
    "            if state_j == 0:\n",
    "                pass\n",
    "            else:\n",
    "                w_edges[idx] = w_s # only susceptible sink node is wearing a mask\n",
    "        else:\n",
    "            if state_j == 0:\n",
    "                w_edges[idx] = w_i # only infected source node is wearing a mask\n",
    "            else:\n",
    "                w_edges[idx] = w_b # both nodes are wearing masks\n",
    "\n",
    "    # Account for both directions of the edge\n",
    "    w_edges = np.concatenate((w_edges, swap_i_j(w_edges, w_s, w_i))) # shape (2*m,)\n",
    "\n",
    "    # Weighted lambda value for each edge\n",
    "    lambda_edges = lambda_ * w_edges\n",
    "\n",
    "    # Randomly assign infection outcome to each edge based on lambda_edges (i.e., probability of weighted infection for each edge)\n",
    "    # Flip the biased coin for each edge to determine if the edge is infected\n",
    "    # infect_edges = np.random.binomial(1, lambda_edges)\n",
    "    infect_edges = np.random.rand(len(lambda_edges)) < lambda_edges\n",
    "\n",
    "    # add each directed edge to network_dir based on the infection outcome\n",
    "    for idx, edge in enumerate(edge_ls_double):\n",
    "        if infect_edges[idx] == 1:\n",
    "            network_dir.add_edge(edge[0], edge[1])\n",
    "        \n",
    "    print(\"Edges infected: \", network_dir.edge_count())\n",
    "\n",
    "    cluster_size = network_dir.sink_size(0) # assume the seed node is node 0\n",
    "    return cluster_size\n",
    "    \n"
   ]
  },
  {
   "cell_type": "code",
   "execution_count": null,
   "metadata": {},
   "outputs": [],
   "source": []
  }
 ],
 "metadata": {
  "kernelspec": {
   "display_name": "SF5_env",
   "language": "python",
   "name": "python3"
  },
  "language_info": {
   "codemirror_mode": {
    "name": "ipython",
    "version": 3
   },
   "file_extension": ".py",
   "mimetype": "text/x-python",
   "name": "python",
   "nbconvert_exporter": "python",
   "pygments_lexer": "ipython3",
   "version": "3.11.9"
  }
 },
 "nbformat": 4,
 "nbformat_minor": 2
}
