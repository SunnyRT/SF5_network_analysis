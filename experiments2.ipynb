{
 "cells": [
  {
   "cell_type": "markdown",
   "metadata": {},
   "source": [
    "# Setup"
   ]
  },
  {
   "cell_type": "markdown",
   "metadata": {},
   "source": [
    "Import libraries"
   ]
  },
  {
   "cell_type": "code",
   "execution_count": 1,
   "metadata": {},
   "outputs": [],
   "source": [
    "import matplotlib.pyplot as plt\n",
    "import numpy.matlib\n",
    "import numpy as np\n",
    "import scipy\n",
    "from scipy.cluster.hierarchy import DisjointSet\n",
    "from scipy.stats import truncnorm\n",
    "import math\n",
    "\n",
    "from network0_def import *\n",
    "from network1_config import *\n",
    "# from wk3_2_crit_thres import *\n",
    "from network2_clustersize import *\n",
    "\n"
   ]
  },
  {
   "cell_type": "markdown",
   "metadata": {},
   "source": [
    "Set up 2 configuration model networks for the entire experiments:\n",
    "1. Poisson degree distribution\n",
    "2. Geometric degree distribution"
   ]
  },
  {
   "cell_type": "code",
   "execution_count": 2,
   "metadata": {},
   "outputs": [],
   "source": [
    "# parameters\n",
    "n = 4069\n",
    "k_mean = 10 # mean degree\n",
    "\n",
    "network_p = config_graph_gen(n, deg_dist_poisson(n, k_mean))\n",
    "network_g = config_graph_gen(n, deg_dist_geo(n, k_mean))"
   ]
  },
  {
   "cell_type": "code",
   "execution_count": null,
   "metadata": {},
   "outputs": [],
   "source": [
    "# # parameters\n",
    "# n = 10000\n",
    "# k_mean = 20 # mean degree\n",
    "\n",
    "# network_p = config_graph_gen(n, deg_dist_poisson(n, k_mean))\n",
    "# network_g = config_graph_gen(n, deg_dist_geo(n, k_mean))"
   ]
  },
  {
   "cell_type": "code",
   "execution_count": 3,
   "metadata": {},
   "outputs": [
    {
     "data": {
      "image/png": "[encoded data removed]",
      "text/plain": [
       "<Figure size 640x480 with 1 Axes>"
      ]
     },
     "metadata": {},
     "output_type": "display_data"
    }
   ],
   "source": [
    "# Plot the degree distribution\n",
    "plt.figure()\n",
    "degs_p = network_p.deg_dist()\n",
    "degs_g = network_g.deg_dist()\n",
    "plt.hist(degs_p, bins=np.arange(np.max(degs_p))-0.5, density=True, alpha=0.5, label='Poisson')\n",
    "plt.hist(degs_g, bins=np.arange(np.max(degs_g))-0.5, density=True, alpha=0.5, label='Geometric')\n",
    "plt.xlabel('Degree')\n",
    "plt.ylabel('Probability density function (i.e. normalized frequency)')\n",
    "plt.legend()\n",
    "plt.show()"
   ]
  },
  {
   "cell_type": "code",
   "execution_count": 4,
   "metadata": {},
   "outputs": [],
   "source": [
    "edge_ls_p = network_p.edge_list()\n",
    "edge_ls_g = network_g.edge_list()"
   ]
  },
  {
   "cell_type": "markdown",
   "metadata": {},
   "source": [
    "# Single deterministic $\\lambda$"
   ]
  },
  {
   "cell_type": "markdown",
   "metadata": {},
   "source": [
    "Set up disease parameters."
   ]
  },
  {
   "cell_type": "code",
   "execution_count": 5,
   "metadata": {},
   "outputs": [],
   "source": [
    "# lambda_means = np.array([0.01, 0.02, 0.03, 0.04, 0.05, 0.075, 0.1, 0.15, 0.2, 0.25])\n",
    "lambda_means = np.array([0.025, 0.05, 0.075, 0.1, 0.15, 0.2, 0.25, 0.3, 0.4, 0.5])\n",
    "# dists = [None, \"uniform\", \"normal\", \"exponential\"]\n",
    "dists = [None, \"normal\"]"
   ]
  },
  {
   "cell_type": "code",
   "execution_count": 13,
   "metadata": {},
   "outputs": [
    {
     "name": "stdout",
     "output_type": "stream",
     "text": [
      "lambda =  0.025 c_p =  1.3435733595478005 c_g =  1.6542147947898747\n",
      "lambda =  0.05 c_p =  2.119193905136397 c_g =  5.079134922585402\n",
      "lambda =  0.075 c_p =  3.248709756696977 c_g =  248.1354141066601\n",
      "lambda =  0.1 c_p =  14.563529122634554 c_g =  580.7488326370116\n",
      "lambda =  0.15 c_p =  1405.94814450725 c_g =  1157.8228065863848\n",
      "lambda =  0.2 c_p =  2567.5505038092897 c_g =  1661.7323666748587\n",
      "lambda =  0.25 c_p =  3233.153846153846 c_g =  1963.0471860407963\n",
      "lambda =  0.3 c_p =  3637.1764561317277 c_g =  2188.5984271319735\n",
      "lambda =  0.4 c_p =  3887.10666011305 c_g =  2581.700909314328\n",
      "lambda =  0.5 c_p =  4015.1857950356352 c_g =  2822.8087982305233\n"
     ]
    }
   ],
   "source": [
    "c_p_undirec0 = np.zeros(len(lambda_means))\n",
    "c_g_undirec0 = np.zeros(len(lambda_means))\n",
    "\n",
    "for idx,lambda_ in enumerate(lambda_means):\n",
    "    c_p_undirec0[idx] = SIR_djset(n, edge_ls_p, lambda_)\n",
    "    c_g_undirec0[idx] = SIR_djset(n, edge_ls_g, lambda_)\n",
    "    print(\"lambda = \", lambda_, \"c_p = \", c_p_undirec0[idx], \"c_g = \", c_g_undirec0[idx])"
   ]
  },
  {
   "cell_type": "markdown",
   "metadata": {},
   "source": [
    "# Distributions of $\\lambda_i$ for individual nodes"
   ]
  },
  {
   "cell_type": "markdown",
   "metadata": {},
   "source": [
    "Generation of $\\lambda_i$ arrays for each given $\\lambda$ mean."
   ]
  },
  {
   "cell_type": "code",
   "execution_count": null,
   "metadata": {},
   "outputs": [],
   "source": [
    "def node_lambda(n, mean, dist=None):\n",
    "    \"\"\"Generate the susceptibility for each node in the network.\"\"\"\n",
    "    # variance scale with mean value\n",
    "    \n",
    "    if dist is None:\n",
    "        lambda_i = np.full(n, mean)\n",
    "    elif dist == \"uniform\":\n",
    "        lambda_i = np.random.uniform(0, 2*mean, n)\n",
    "    elif dist == \"normal\":\n",
    "        std = mean / 3\n",
    "        lambda_i = np.random.normal(mean, std, n)\n",
    "        lambda_i = np.clip(lambda_i, 0, 2*mean)\n",
    "    elif dist == \"exponential\":\n",
    "        lambda_i = np.random.exponential(mean, n)\n",
    "        lambda_i = np.clip(lambda_i, 0, 1) # FIXME: after clipping, the mean is shifted to the left slightly\n",
    "    else:\n",
    "        raise ValueError(\"Invalid distribution type.\")\n",
    "    return lambda_i\n",
    "\n",
    "def lambda_mat_gen(n, means, dist=None):\n",
    "    \"\"\"Generate the susceptibility matrix for each node in the network, for each value of lambda mean.\"\"\"\n",
    "    lambda_mat = np.empty((len(means),n))\n",
    "    for idx, mean in enumerate(means):\n",
    "        lambda_i = node_lambda(n, mean, dist)\n",
    "        lambda_mat[idx] = lambda_i\n",
    "\n",
    "    return lambda_mat # shape (len(means), n)\n"
   ]
  },
  {
   "cell_type": "markdown",
   "metadata": {},
   "source": [
    "Set up experiments"
   ]
  },
  {
   "cell_type": "code",
   "execution_count": null,
   "metadata": {},
   "outputs": [],
   "source": [
    "lambda_mats = np.empty((len(dists), len(lambda_means), n))\n",
    "for idx, dist in enumerate(dists):\n",
    "    lambda_mats[idx] = lambda_mat_gen(n, lambda_means, dist) # shape (len(lambda_means), n)"
   ]
  },
  {
   "cell_type": "code",
   "execution_count": null,
   "metadata": {},
   "outputs": [],
   "source": [
    "# Check that the mean is relatively consistent across different distributions\n",
    "lambda_means_actual = np.mean(lambda_mats, axis=2)\n",
    "print(lambda_means_actual)"
   ]
  },
  {
   "cell_type": "code",
   "execution_count": null,
   "metadata": {},
   "outputs": [],
   "source": [
    "# # check variance of each distribution\n",
    "# lambda_var = np.var(lambda_mats, axis=2)\n",
    "# plt.figure()\n",
    "# dists_str = [\"None\", \"Uniform\", \"Normal\", \"Exponential\"]\n",
    "# plt.bar(dists_str, lambda_var[:,4])\n",
    "# plt.xlabel('Distribution')\n",
    "# plt.ylabel('Variance of λ')\n",
    "# plt.show()"
   ]
  },
  {
   "cell_type": "markdown",
   "metadata": {},
   "source": [
    "Visualising Lambda distribution with $\\lambda = 0.05$"
   ]
  },
  {
   "cell_type": "code",
   "execution_count": null,
   "metadata": {},
   "outputs": [],
   "source": [
    "from scipy.stats import uniform, norm, expon\n",
    "\n",
    "idx = 1 # for \\lambda = 0.05\n",
    "print(lambda_means_actual[:,idx])\n",
    "# generate theoretical pdf plots for each distribution\n",
    "x = np.linspace(0, 0.4, 800)\n",
    "y_uniform= uniform.pdf(x[:200], 0, 2*lambda_means[idx])\n",
    "y_normal = norm.pdf(x[:200], lambda_means[idx], lambda_means[idx]/3)\n",
    "y_exp = expon.pdf(x, scale=lambda_means[idx])\n",
    "\n",
    "\n",
    "\n",
    "# Create 1x4 subplots\n",
    "fig, axes = plt.subplots(1, 4, figsize=(20, 5))\n",
    "\n",
    "# Plot each histogram in its respective subplot\n",
    "axes[0].hist(lambda_mats[0, idx, :], bins=30, density =True, label = 'None')\n",
    "axes[0].set_title('None')\n",
    "\n",
    "axes[1].hist(lambda_mats[1, idx, :], bins=30, density =True, label = 'Uniform')\n",
    "axes[1].set_title('Uniform')\n",
    "axes[1].plot(x[:200], y_uniform, '-')\n",
    "\n",
    "axes[2].hist(lambda_mats[2, idx, :], bins=30, density =True, label = 'Normal')\n",
    "axes[2].set_title('Normal')\n",
    "axes[2].plot(x[:200], y_normal, '-')\n",
    "\n",
    "axes[3].hist(lambda_mats[3, idx, :], bins=30, density =True, label = 'Exponential')\n",
    "axes[3].set_title('Exponential')\n",
    "axes[3].plot(x, y_exp, '-')\n",
    "\n",
    "# Adjust layout to prevent overlap\n",
    "plt.tight_layout()\n",
    "\n",
    "# Display the plot\n",
    "plt.show()"
   ]
  },
  {
   "cell_type": "markdown",
   "metadata": {},
   "source": [
    "Empiricals simulations:"
   ]
  },
  {
   "cell_type": "code",
   "execution_count": null,
   "metadata": {},
   "outputs": [],
   "source": [
    "output_c_p = np.zeros((len(dists), len(lambda_means)))\n",
    "output_c_g = np.zeros((len(dists), len(lambda_means)))\n",
    "\n",
    "\n",
    "for idx1, dist in enumerate(dists): # iterate over different distributions\n",
    "    print(\"processing dist: \", dist, \"\\r\")\n",
    "    if dist is None:\n",
    "        for idx2, lambda_ in enumerate(lambda_means):\n",
    "            print(\"processing lambda: \", lambda_means[idx2], \"\\r\")\n",
    "            output_c_p[idx1, idx2] = SIR_djset(n, edge_ls_p, lambda_)\n",
    "            output_c_g[idx1, idx2] = SIR_djset(n, edge_ls_g, lambda_)\n",
    "            print(f\"Dist = {dist}, lambda_mean = {lambda_means[idx2]}, output_p = {output_c_p[idx1, idx2]}, output_g = {output_c_g[idx1, idx2]}\")\n",
    "            \n",
    "    else:\n",
    "        lambda_mat = lambda_mats[idx1] # shape (len(lambda_means), n)\n",
    "        for idx2, lambdas in enumerate(lambda_mat): # iterate over different lambda mean values\n",
    "            print(\"processing lambda: \", lambda_means[idx2], \"\\r\")\n",
    "            output_c_p[idx1, idx2], _ = SIR_djset_dir(n, edge_ls_p, lambdas)\n",
    "            output_c_g[idx1, idx2], _ = SIR_djset_dir(n, edge_ls_g, lambdas)\n",
    "\n",
    "            print(f\"Dist = {dist}, lambda_mean = {lambda_means[idx2]}, output_p = {output_c_p[idx1, idx2]}, output_g = {output_c_g[idx1, idx2]}\")"
   ]
  },
  {
   "cell_type": "code",
   "execution_count": null,
   "metadata": {},
   "outputs": [],
   "source": [
    "# # data for n=2048, mean=10\n",
    "# lambda_means = np.array([0.01, 0.02, 0.03, 0.04, 0.05, 0.075, 0.1, 0.15, 0.2, 0.25])\n",
    "# dists = [None, \"uniform\", \"normal\", \"exponential\"]\n",
    "\n",
    "# output_c_p = [\n",
    "#     [1.05761719e+00, 1.12402344e+00, 1.15625000e+00, 1.24023438e+00,\n",
    "#      1.33203125e+00, 1.66894531e+00, 2.03027344e+00, 5.23144531e+00,\n",
    "#      2.05253906e+01, 1.37926758e+02],\n",
    "#     [9.70000000e+01, 1.90000000e+02, 2.90000000e+02, 3.51000000e+02,\n",
    "#      4.54000000e+02, 6.29000000e+02, 7.50000000e+02, 9.50000000e+02,\n",
    "#      1.14400000e+03, 1.25500000e+03],\n",
    "#     [1.20000000e+02, 1.95000000e+02, 3.07000000e+02, 3.65000000e+02,\n",
    "#      4.68000000e+02, 6.55000000e+02, 7.87000000e+02, 1.03300000e+03,\n",
    "#      1.24600000e+03, 1.38600000e+03],\n",
    "#     [9.10000000e+01, 2.05000000e+02, 2.71000000e+02, 3.41000000e+02,\n",
    "#      4.33000000e+02, 5.59000000e+02, 6.86000000e+02, 8.89000000e+02,\n",
    "#      1.03100000e+03, 1.08200000e+03]\n",
    "# ]\n",
    "\n",
    "# output_c_g = [\n",
    "#     [1.04882812e+00, 1.09960938e+00, 1.17578125e+00, 1.29296875e+00,\n",
    "#      1.39062500e+00, 1.95605469e+00, 4.32226562e+00, 1.24402344e+02,\n",
    "#      2.43051758e+02, 4.54482422e+02],\n",
    "#     [1.00000000e+02, 1.62000000e+02, 2.52000000e+02, 3.23000000e+02,\n",
    "#      4.00000000e+02, 5.03000000e+02, 6.30000000e+02, 7.74000000e+02,\n",
    "#      9.38000000e+02, 9.79000000e+02],\n",
    "#     [8.30000000e+01, 1.89000000e+02, 2.35000000e+02, 3.21000000e+02,\n",
    "#      3.87000000e+02, 5.46000000e+02, 6.68000000e+02, 8.67000000e+02,\n",
    "#      9.77000000e+02, 1.08800000e+03],\n",
    "#     [8.70000000e+01, 1.91000000e+02, 2.34000000e+02, 2.94000000e+02,\n",
    "#      3.75000000e+02, 4.85000000e+02, 5.74000000e+02, 7.28000000e+02,\n",
    "#      8.08000000e+02, 9.21000000e+02]\n",
    "# ]"
   ]
  },
  {
   "cell_type": "code",
   "execution_count": null,
   "metadata": {},
   "outputs": [],
   "source": [
    "# # data for n=2048, mean=10\n",
    "# lambda_means = [0.025, 0.05, 0.075, 0.1, 0.15, 0.2, 0.25, 0.3, 0.4, 0.5]\n",
    "# dists = [None, \"uniform\"]\n",
    "\n",
    "# output_c_p=[\n",
    "#     [1.32096338e+00, 1.97763578e+00, 3.41779307e+00, 2.60877365e+01,\n",
    "#      1.51972450e+03, 2.60895970e+03, 3.22958589e+03, 3.57318186e+03,\n",
    "#      3.91059499e+03, 4.00922856e+03],\n",
    "#     [8.70000000e+02, 1.56200000e+03, 2.07400000e+03, 2.42500000e+03,\n",
    "#      3.04000000e+03, 3.36800000e+03, 3.62400000e+03, 3.69400000e+03,\n",
    "#      3.91300000e+03, 3.96000000e+03]\n",
    "# ]\n",
    "\n",
    "# output_c_g=[\n",
    "#     [1.44433522e+00, 5.56770705e+00, 2.04965594e+02, 5.83690096e+02,\n",
    "#      1.22816638e+03, 1.68740845e+03, 1.98114500e+03, 2.25508995e+03,\n",
    "#      2.56103195e+03, 2.81116319e+03],\n",
    "#     [8.02000000e+02, 1.31300000e+03, 1.68600000e+03, 1.93900000e+03,\n",
    "#      2.37300000e+03, 2.65600000e+03, 2.86800000e+03, 2.98500000e+03,\n",
    "#      3.20900000e+03, 3.36500000e+03]\n",
    "# ]\n",
    "\n"
   ]
  },
  {
   "cell_type": "code",
   "execution_count": null,
   "metadata": {},
   "outputs": [],
   "source": [
    "print(output_c_p)\n",
    "print(output_c_g)"
   ]
  },
  {
   "cell_type": "code",
   "execution_count": null,
   "metadata": {},
   "outputs": [],
   "source": [
    "# plot\n",
    "\n",
    "colors = ['tab:blue', 'tab:orange']\n",
    "plt.figure()\n",
    "\n",
    "plt.plot(lambda_means, output_c_p[0], '--', label='poisson: None', color='tab:blue')\n",
    "plt.plot(lambda_means, output_c_g[0], '--', label='geo: None', color='tab:orange')\n",
    "\n",
    "plt.plot(lambda_means, output_c_p[1], 'o-', label='poisson: uniform', color='tab:blue')\n",
    "plt.plot(lambda_means, output_c_g[1], 'o-', label='geo: uniform', color='tab:orange')\n",
    "\n",
    "\n",
    "plt.xlabel('Mean of λ')\n",
    "plt.xscale('log')\n",
    "plt.ylabel('Total number of infected nodes')\n",
    "plt.legend()\n",
    "plt.show()"
   ]
  },
  {
   "cell_type": "code",
   "execution_count": null,
   "metadata": {},
   "outputs": [],
   "source": [
    "# plot\n",
    "\n",
    "colors = ['tab:blue', 'tab:orange', 'tab:green', 'tab:red']\n",
    "plt.figure()\n",
    "for idx, dist in enumerate(dists):\n",
    "    plt.plot(lambda_means_actual[idx], output_c_p[idx], 'o-', color = colors[idx], label=f\"p:{dist}\")\n",
    "    plt.plot(lambda_means_actual[idx], output_c_g[idx], '^--', color = colors[idx], label=f\"g:{dist}\")\n",
    "plt.xlabel(\"Mean of λ\")\n",
    "plt.xscale(\"log\")\n",
    "plt.ylabel(\"Total number of infections\")\n",
    "plt.legend()\n",
    "plt.show()"
   ]
  },
  {
   "cell_type": "markdown",
   "metadata": {},
   "source": [
    "# Variance of $\\lambda_i$ with normal distribution at mean = 0.2"
   ]
  },
  {
   "cell_type": "code",
   "execution_count": null,
   "metadata": {},
   "outputs": [],
   "source": [
    "# investigate how variance of a normally distributed lambda affects the number of infections\n",
    "\n",
    "def node_lambda_nvar(n, mean, std):\n",
    "    \"\"\"Generate the susceptibility for each node in the network.\n",
    "    lambda follows a normal distribution with given mean and std.\"\"\"\n",
    "\n",
    "    if std == 0:\n",
    "        lambda_i = np.full(n, mean)\n",
    "        return lambda_i\n",
    "    else:\n",
    "        a = 0\n",
    "        b = 2*mean\n",
    "        a_norm = (a - mean) / std\n",
    "        b_norm = (b - mean) / std\n",
    "        lambda_i = truncnorm(a=a_norm, b=b_norm, loc=mean, scale=std).rvs(n)\n",
    "        return lambda_i\n",
    "\n",
    "\n",
    "def lambda_mat_gen_nvar(n, mean, stds):\n",
    "    \"\"\"Generate the susceptibility matrix for each node in the network, for each value of lambda variance, with the same value of lambda mean.\"\"\"\n",
    "    lambda_mat = np.empty((len(stds),n))\n",
    "    for idx, std in enumerate(stds):\n",
    "        lambda_i = node_lambda_nvar(n, mean, std)\n",
    "        lambda_mat[idx] = lambda_i\n",
    "\n",
    "    return lambda_mat # shape (len(stds), n)"
   ]
  },
  {
   "cell_type": "markdown",
   "metadata": {},
   "source": [
    "Set up experiments"
   ]
  },
  {
   "cell_type": "code",
   "execution_count": null,
   "metadata": {},
   "outputs": [],
   "source": [
    "lambda_mean = 0.2\n",
    "lambda_stds = np.array([0.0, 0.02, 0.04, 0.06, 0.08, 0.1, 0.125, 0.15, 0.2])"
   ]
  },
  {
   "cell_type": "code",
   "execution_count": null,
   "metadata": {},
   "outputs": [],
   "source": [
    "lambda_mat_nvar = lambda_mat_gen_nvar(n, lambda_mean, lambda_stds) # shape (len(lambda_stds), n) for a single value of lambda_mean "
   ]
  },
  {
   "cell_type": "code",
   "execution_count": null,
   "metadata": {},
   "outputs": [],
   "source": [
    "# Check that the mean is relatively consistent across different distributions\n",
    "lambda_means_actual = np.mean(lambda_mat_nvar, axis=1)\n",
    "print(lambda_means_actual)"
   ]
  },
  {
   "cell_type": "code",
   "execution_count": null,
   "metadata": {},
   "outputs": [],
   "source": [
    "# visualize the distribution of lambda for different values of std\n",
    "# plt.hist(lambda_mat_nvar[5], bins=30, density =True, label = 'std=0.1')\n",
    "# plt.xlim(0, 0.4)\n",
    "# print(np.var(lambda_mat_nvar[5]))\n",
    "\n",
    "idx_to_plot = [0, 2, 5, 8]\n",
    "# Create 1x4 subplots\n",
    "fig, axes = plt.subplots(1, 4, figsize=(20, 5))\n",
    "\n",
    "# Plot histogram for the selected variance values\n",
    "\n",
    "for i, idx in enumerate(idx_to_plot):\n",
    "    axes[i].hist(lambda_mat_nvar[idx], bins=30, density =True, label = f'std={lambda_stds[idx]}')\n",
    "    axes[i].set_title(f'std={lambda_stds[idx]}')\n",
    "    axes[i].set_xlim(-0.1, 0.5)\n",
    "\n",
    "\n",
    "\n",
    "\n",
    "# Adjust layout to prevent overlap\n",
    "plt.tight_layout()\n",
    "\n",
    "# Display the plot\n",
    "plt.show()"
   ]
  },
  {
   "cell_type": "code",
   "execution_count": null,
   "metadata": {},
   "outputs": [],
   "source": [
    "# check actual variance of each distribution\n",
    "lambda_vars_actual = np.var(lambda_mat_nvar, axis=1)\n",
    "plt.figure()\n",
    "plt.plot(lambda_stds**2, lambda_vars_actual, 'o-')\n",
    "plt.xlabel('Expected variance of λ')\n",
    "\n",
    "plt.ylabel('Actual variance of λ')\n",
    "plt.show()\n"
   ]
  },
  {
   "cell_type": "markdown",
   "metadata": {},
   "source": [
    "Empirical simulations:\n"
   ]
  },
  {
   "cell_type": "code",
   "execution_count": null,
   "metadata": {},
   "outputs": [],
   "source": [
    "output_c_p_nvar = np.zeros(len(lambda_stds))\n",
    "output_c_g_nvar = np.zeros(len(lambda_stds))\n",
    "\n",
    "\n",
    "for idx, std in enumerate(lambda_stds): # iterate over different variance values\n",
    "    print(\"processing std: \", std, \"\\r\")\n",
    "    if std == 0:\n",
    "        output_c_p_nvar[idx] = SIR_djset(n, edge_ls_p, lambda_mean)\n",
    "        output_c_g_nvar[idx] = SIR_djset(n, edge_ls_g, lambda_mean)\n",
    "        print(f\"std = {std}, output_p = {output_c_p_nvar[idx]}, output_g = {output_c_g_nvar[idx]}\")\n",
    "\n",
    "    else:\n",
    "        output_c_p_nvar[idx], _ = SIR_djset_dir(n, edge_ls_p, lambda_mat_nvar[idx])\n",
    "        output_c_g_nvar[idx], _ = SIR_djset_dir(n, edge_ls_g, lambda_mat_nvar[idx])\n",
    "\n",
    "        print(f\"std = {std}, output_p = {output_c_p_nvar[idx]}, output_g = {output_c_g_nvar[idx]}\")\n",
    "        "
   ]
  },
  {
   "cell_type": "code",
   "execution_count": null,
   "metadata": {},
   "outputs": [],
   "source": [
    "print(output_c_p_nvar)\n",
    "print(output_c_g_nvar)"
   ]
  },
  {
   "cell_type": "code",
   "execution_count": null,
   "metadata": {},
   "outputs": [],
   "source": [
    "# lambda_stds = np.array([0.0, 0.02, 0.04, 0.06, 0.08, 0.1, 0.125, 0.15, 0.2])\n",
    "\n",
    "# output_c_p_nvar = [\n",
    "#     2644.30892111, 3467.0, 3474.0, 3348.0, 3356.0, \n",
    "#     3253.0, 3168.0, 3151.0, 3085.0\n",
    "# ]\n",
    "\n",
    "# output_c_g_nvar = [\n",
    "#     1612.2971246, 2721.0, 2712.0, 2678.0, 2589.0, \n",
    "#     2624.0, 2553.0, 2532.0, 2442.0\n",
    "# ]"
   ]
  },
  {
   "cell_type": "code",
   "execution_count": null,
   "metadata": {},
   "outputs": [],
   "source": [
    "# plot\n",
    "\n",
    "plt.figure()\n",
    "plt.plot(lambda_vars_actual, output_c_p_nvar, 'o-', label='Poisson')\n",
    "plt.plot(lambda_vars_actual, output_c_g_nvar, '^--', label='Geometric')\n",
    "plt.xlabel(\"Actual variance of λ\")\n",
    "plt.ylabel(\"Total number of infections\")\n",
    "plt.ylim(0, 4000)\n",
    "plt.legend()\n",
    "\n",
    "\n",
    "\n",
    "plt.show()"
   ]
  },
  {
   "cell_type": "markdown",
   "metadata": {},
   "source": [
    "# Mask wearing (Trivial)\n",
    "Introducing infection weights $w_s$, $w_i$, $w_d$"
   ]
  },
  {
   "cell_type": "markdown",
   "metadata": {},
   "source": [
    "Let $p_m$ demote percentage of people wearing masks. <br>\n",
    "Assume a constant $\\lambda$ = 0.4. i.e. None distribution"
   ]
  },
  {
   "cell_type": "code",
   "execution_count": null,
   "metadata": {},
   "outputs": [],
   "source": [
    "# # Setup\n",
    "# n = 10000\n",
    "# mean = 20\n",
    "# pm_ary = np.array([0.1, 0.5, 0.8])\n",
    "# lambda_ary = np.linspace(0.0, 0.3, 31)\n",
    "# iter_n = 100"
   ]
  },
  {
   "cell_type": "code",
   "execution_count": null,
   "metadata": {},
   "outputs": [],
   "source": [
    "# Run the simulation without mask (original spread)\n",
    "Nr_ary_nomask = np.zeros(len(lambda_ary))\n",
    "Nr_covs_nomask = np.zeros(len(lambda_ary))\n",
    "\n",
    "# Generate one single network and calculate the number of total infections for each lambda\n",
    "for idx, lambda_ in enumerate(lambda_ary):\n",
    "    print(\"processing lambda: \", lambda_)\n",
    "    edge_ls = np.random.permutation(edge_ls) # Shuffle the edge list along the edge pair axis\n",
    "    cluster_size = np.zeros(iter_n)\n",
    "    for itn in range(iter_n):\n",
    "        print(\"iter: \", itn, '/', iter_n, end='\\r')\n",
    "        cluster_size[itn] = SIR_djset(n, edge_ls, lambda_)\n",
    "    mu = np.mean(cluster_size)\n",
    "    Nr_ary_nomask[idx] = mu\n",
    "    Nr_covs_nomask[idx] = np.std(cluster_size) / mu"
   ]
  },
  {
   "cell_type": "markdown",
   "metadata": {},
   "source": [
    "The reduction in infection probability towards a susceptible person wearing masks be $w_s$ = 50%;<br>\n",
    "The reduction in infection probability from an infectious person wearing masks be $w_i$ = 50%;<br>\n",
    "The reduction in infection probability for both people wearing masks be $w_b$ = 80%."
   ]
  },
  {
   "cell_type": "code",
   "execution_count": null,
   "metadata": {},
   "outputs": [],
   "source": [
    "w_s = 0.5 # only susceptible node wearing mask\n",
    "w_i = 0.5 # only infected node wearing mask\n",
    "w_b = 0.2 # both susceptible and infected nodes wearing mask 1-0.8 = 0.2\n",
    "w = np.array([w_s, w_i, w_b])"
   ]
  },
  {
   "cell_type": "code",
   "execution_count": null,
   "metadata": {},
   "outputs": [],
   "source": [
    "def SIR_djset_mask(n, edge_ls, lambda_, pm, w):\n",
    "    \"\"\"Simulate the SIR model on the given network represented by disjoint set.\n",
    "    Assume single seed node to be node 0.\n",
    "    Giving the mask wearing probability for each node.\"\"\"\n",
    "    w_s, w_i, w_b = w\n",
    "\n",
    "    # For a randomly chosen edge, probability of the 3 cases:\n",
    "    pm_neither = (1-pm)**2 # neither of the nodes are wearing masks --> *1.0\n",
    "    pm_single = 2*pm*(1-pm) # only 1 node is wearing mask #FIXME: how to determine if it's the source or sink node?? --> *w_s or *w_i\n",
    "    pm_both = pm**2 # both nodes are wearing masks --> *w_b\n",
    "\n",
    "    prob = np.array([pm_neither, pm_single/2, pm_single/2, pm_both]) # FIXME: Assume an edge has equal proability of being either direction\n",
    "    weights = np.array([1.0, w_s, w_i, w_b])\n",
    "\n",
    "    # For each edge, randomly choose a case based on the probability distribution\n",
    "    lambdas_weighted = np.random.choice(weights, size=edge_ls.shape[0], p=prob) * lambda_\n",
    "    # print(lambdas_weighted[:20])\n",
    "\n",
    "\n",
    "\n",
    "    C = DisjointSet(range(n))\n",
    "    \n",
    "    prob_infect = np.random.binomial(1, p=lambdas_weighted) # Randomly assign infection outcome to each edge based on probability weighted lambda_i\n",
    "    \n",
    "    for idx, edge in enumerate(edge_ls):\n",
    "        if prob_infect[idx] == 1:\n",
    "            C.merge(edge[0], edge[1])\n",
    "\n",
    "    return C.subset_size(0) # Assume node 0 is the seed node"
   ]
  },
  {
   "cell_type": "code",
   "execution_count": null,
   "metadata": {},
   "outputs": [],
   "source": [
    "# Simulations with mask\n",
    "Nr_arys_mask = np.zeros((len(pm_ary), len(lambda_ary)))\n",
    "Nr_covs_mask = np.zeros((len(pm_ary), len(lambda_ary)))\n",
    "\n",
    "\n",
    "edge_ls = config_graph_edge_ls(n, deg_dist_poisson(n, mean))\n",
    "for idx1, pm in enumerate(pm_ary):\n",
    "    print(\"processing mask wearing proportion: \", pm)\n",
    "\n",
    "\n",
    "    for idx2, lambda_ in enumerate(lambda_ary):\n",
    "        print(\"processing lambda: \", lambda_)\n",
    "        cluster_size = np.zeros(iter_n)\n",
    "\n",
    "        for itn in range(iter_n):\n",
    "            print(\"iter: \", itn, '/', iter_n, end='\\r')\n",
    "            edge_ls = np.random.permutation(edge_ls) # Shuffle the edge list along the edge pair axis\n",
    "            cluster_size[itn] = SIR_djset_mask(n, edge_ls, lambda_, pm, w)\n",
    "        mu = np.mean(cluster_size)\n",
    "        Nr_arys_mask[idx1,idx2] = mu\n",
    "        Nr_covs_mask[idx1,idx2] = np.std(cluster_size) / mu\n",
    "\n",
    "        print(f\"mask proportion = {pm}, lambda = {lambda_}, Nr = {mu}\")"
   ]
  },
  {
   "cell_type": "code",
   "execution_count": null,
   "metadata": {},
   "outputs": [],
   "source": [
    "# Data store 3:\n",
    "'''Nr_ary_nomask = [1.00000e+00 1.27000e+00 1.67000e+00 2.42000e+00 4.60000e+00 5.26500e+01\n",
    " 9.42980e+02 2.27835e+03 4.20314e+03 5.37899e+03 6.71242e+03 7.18865e+03\n",
    " 7.83659e+03 8.51820e+03 9.06586e+03 9.31269e+03 9.24259e+03 9.43120e+03\n",
    " 9.50364e+03 9.56494e+03 9.51044e+03 9.74249e+03 9.86891e+03 9.89386e+03\n",
    " 9.91607e+03 9.93115e+03 9.94320e+03 9.95418e+03 9.96239e+03 9.96867e+03\n",
    " 9.97464e+03]'''\n",
    "\n",
    "'''Nr_arys_mask = [[1.00000e+00 1.22000e+00 1.62000e+00 2.52000e+00 3.24000e+00 7.37000e+00\n",
    "  2.92020e+02 1.48169e+03 2.81346e+03 4.76383e+03 4.94033e+03 6.75778e+03\n",
    "  7.37751e+03 8.19138e+03 8.25556e+03 8.80741e+03 9.23528e+03 8.88950e+03\n",
    "  9.07407e+03 9.25002e+03 9.60029e+03 9.65767e+03 9.50270e+03 9.73434e+03\n",
    "  9.66373e+03 9.88378e+03 9.90311e+03 9.92011e+03 9.93380e+03 9.94576e+03\n",
    "  9.95413e+03]\n",
    " [1.00000e+00 1.11000e+00 1.28000e+00 1.66000e+00 1.80000e+00 2.39000e+00\n",
    "  2.80000e+00 4.30000e+00 4.64000e+00 1.75300e+01 2.88740e+02 1.23595e+03\n",
    "  1.99601e+03 2.91367e+03 4.35463e+03 4.50120e+03 5.32222e+03 6.23735e+03\n",
    "  6.59510e+03 7.07123e+03 7.53019e+03 7.80705e+03 8.03494e+03 8.16645e+03\n",
    "  8.20185e+03 8.93780e+03 8.84053e+03 8.64102e+03 9.17940e+03 9.23943e+03\n",
    "  9.48490e+03]\n",
    " [1.00000e+00 1.05000e+00 1.11000e+00 1.42000e+00 1.55000e+00 1.26000e+00\n",
    "  1.80000e+00 1.85000e+00 1.92000e+00 2.70000e+00 2.78000e+00 3.60000e+00\n",
    "  4.52000e+00 6.87000e+00 8.30000e+00 3.16000e+01 1.34790e+02 3.14960e+02\n",
    "  8.18040e+02 1.77144e+03 1.81942e+03 2.30825e+03 3.84023e+03 3.85305e+03\n",
    "  4.66982e+03 4.13071e+03 5.29750e+03 4.93189e+03 5.53855e+03 5.85795e+03\n",
    "  6.24653e+03]]'''\n"
   ]
  },
  {
   "cell_type": "markdown",
   "metadata": {},
   "source": [
    "Theoretical Effect: As if shift mean of lambda by mean[pm_prob] = [0.902, 0.55, 0.328]* lambda"
   ]
  },
  {
   "cell_type": "code",
   "execution_count": null,
   "metadata": {},
   "outputs": [],
   "source": [
    "\n",
    "lambda_ary_eff = np.zeros((len(pm_ary), len(lambda_ary)))\n",
    "for idx,pm in enumerate(pm_ary):\n",
    "    pm_neither = (1-pm)**2 # neither of the nodes are wearing masks --> *1.0\n",
    "    pm_single = 2*pm*(1-pm) # only 1 node is wearing mask \n",
    "    pm_both = pm**2 # both nodes are wearing masks --> *w_b\n",
    "\n",
    "    prob = np.array([pm_neither, pm_single/2, pm_single/2, pm_both]) \n",
    "    weights = np.array([1.0, w_s, w_i, w_b])\n",
    "\n",
    "    lambda_shiftfactor = np.mean(np.dot(prob, weights)) # [0.902, 0.55, 0.328]\n",
    "    print(f'pm = {pm}:, lambda is effectively factored by {lambda_shiftfactor}')\n",
    "\n",
    "    lambda_ary_eff[idx] = lambda_ary / lambda_shiftfactor # effective lambda for each mask wearing proportion\n"
   ]
  },
  {
   "cell_type": "code",
   "execution_count": null,
   "metadata": {},
   "outputs": [],
   "source": [
    "plt.figure()\n",
    "color_scheme = ['tab:blue', 'tab:orange', 'tab:green']\n",
    "\n",
    "for idx, pm in enumerate(pm_ary):\n",
    "    plt.plot(lambda_ary_eff[idx], Nr_ary_nomask, '--', color = color_scheme[idx], label=f\"pm={pm}\")\n",
    "    plt.plot(lambda_ary, Nr_arys_mask[idx], 'o-', color = color_scheme[idx])\n",
    "plt.plot(lambda_ary, Nr_ary_nomask, 'o-', color = 'tab:red', label=\"no mask\")\n",
    "plt.xlabel(\"Lambda_i\")\n",
    "plt.xscale(\"log\")\n",
    "plt.ylabel(\"Total number of infections\")\n",
    "plt.legend()\n",
    "plt.show()"
   ]
  },
  {
   "cell_type": "markdown",
   "metadata": {},
   "source": [
    "# Mask wearing"
   ]
  },
  {
   "cell_type": "code",
   "execution_count": 7,
   "metadata": {},
   "outputs": [],
   "source": [
    "# Factoring weights for each edge's infection probability based on mask wearing states for the 2 nodes connected\n",
    "w_s = 0.4 # only susceptible node wearing mask\n",
    "w_i = 0.6 # only infected node wearing mask\n",
    "w_b = 0.2 # both susceptible and infected nodes wearing mask 1-0.8 = 0.2\n",
    "w = np.array([w_s, w_i, w_b])"
   ]
  },
  {
   "cell_type": "code",
   "execution_count": 8,
   "metadata": {},
   "outputs": [
    {
     "name": "stdout",
     "output_type": "stream",
     "text": [
      "[[0. 0. 0. 0. 0. 0. 0. 0. 0. 0. 0. 0. 0. 0. 0. 0. 0. 0. 0. 0.]\n",
      " [1. 0. 1. 1. 1. 0. 1. 1. 1. 0. 0. 1. 1. 0. 1. 1. 0. 0. 1. 0.]\n",
      " [1. 1. 0. 1. 1. 1. 1. 1. 1. 0. 0. 1. 1. 1. 1. 1. 1. 1. 0. 1.]]\n"
     ]
    }
   ],
   "source": [
    "pm_ary = np.array([0.1, 0.5, 0.8])\n",
    "# lambda_means = np.array([0.025, 0.05, 0.075, 0.1, 0.15, 0.2, 0.25, 0.3, 0.4, 0.5]) defined earlier\n",
    "\n",
    "mask_states = np.zeros((len(pm_ary), n))\n",
    "\n",
    "for idx, pm in enumerate(pm_ary):\n",
    "    # Assign the masking wearing state for each edge based on the mask wearing probability pm\n",
    "    mask_states[idx] = np.random.binomial(1, p=pm, size=n) # 1 for wearing mask, 0 for not wearing mask\n",
    "    # shape (len(pm_ary), n)\n",
    "\n",
    "print(mask_states[:, :20])\n",
    "\n"
   ]
  },
  {
   "cell_type": "code",
   "execution_count": null,
   "metadata": {},
   "outputs": [],
   "source": [
    "output_c_p_mask = np.zeros((len(pm_ary), len(lambda_means)))\n",
    "output_c_g_mask = np.zeros((len(pm_ary), len(lambda_means)))\n",
    "\n",
    "\n",
    "for idx, pm in enumerate(pm_ary): # iterate over different mask wearing proportions\n",
    "    print(f\"mask proportion = {pm}\\r\")\n",
    "\n",
    "    for idx2, lambda_ in enumerate(lambda_means):\n",
    "        print(f\"processing lambda: {lambda_}\\r\")\n",
    "        output_c_p_mask[idx, idx2] = SIR_djset_mask(n, edge_ls_p, lambda_, mask_states[idx], w)\n",
    "        output_c_g_mask[idx, idx2] = SIR_djset_mask(n, edge_ls_g, lambda_, mask_states[idx], w)\n",
    "        print(f\"mask proportion = {pm}, lambda = {lambda_}, output_p = {output_c_p_mask[idx, idx2]}, output_g = {output_c_g_mask[idx, idx2]}\")"
   ]
  },
  {
   "cell_type": "code",
   "execution_count": null,
   "metadata": {},
   "outputs": [],
   "source": [
    "print(output_c_p_mask)\n",
    "print(output_c_g_mask)"
   ]
  },
  {
   "cell_type": "code",
   "execution_count": null,
   "metadata": {},
   "outputs": [],
   "source": [
    "# output_c_p_mask = [\n",
    "#     [819.0, 1492.0, 1984.0, 2376.0, 2925.0, 3281.0, 3605.0, 3763.0, 3902.0, 3985.0],\n",
    "#     [520.0, 956.0, 1367.0, 1701.0, 2189.0, 2580.0, 2915.0, 3085.0, 3392.0, 3586.0],\n",
    "#     [295.0, 592.0, 867.0, 1075.0, 1505.0, 1877.0, 2138.0, 2371.0, 2746.0, 3058.0]\n",
    "# ]\n",
    "\n",
    "# output_c_g_mask = [\n",
    "#     [759.0, 1291.0, 1626.0, 1914.0, 2292.0, 2644.0, 2790.0, 2959.0, 3192.0, 3327.0],\n",
    "#     [504.0, 851.0, 1167.0, 1454.0, 1815.0, 2066.0, 2282.0, 2463.0, 2707.0, 2908.0],\n",
    "#     [321.0, 545.0, 755.0, 961.0, 1333.0, 1565.0, 1775.0, 1974.0, 2252.0, 2450.0]\n",
    "# ]"
   ]
  },
  {
   "cell_type": "code",
   "execution_count": null,
   "metadata": {},
   "outputs": [],
   "source": [
    "\n"
   ]
  },
  {
   "cell_type": "markdown",
   "metadata": {},
   "source": [
    "Assume no mask:"
   ]
  },
  {
   "cell_type": "code",
   "execution_count": 17,
   "metadata": {},
   "outputs": [
    {
     "name": "stdout",
     "output_type": "stream",
     "text": [
      "processing lambda: 0.025\n",
      "Edges infected:  1011\n",
      "Edges infected:  1055\n",
      "lambda = 0.025, output_p = 1.3155566478250185, output_g = 1.6665028262472352\n",
      "processing lambda: 0.05\n",
      "Edges infected:  2141\n",
      "Edges infected:  1989\n",
      "lambda = 0.05, output_p = 2.0813467682477267, output_g = 6.840009830425166\n",
      "processing lambda: 0.075\n",
      "Edges infected:  2991\n",
      "Edges infected:  2944\n",
      "lambda = 0.075, output_p = 4.26075202752519, output_g = 164.88940771688377\n",
      "processing lambda: 0.1\n",
      "Edges infected:  4172\n",
      "Edges infected:  4097\n",
      "lambda = 0.1, output_p = 34.0525927746375, output_g = 603.1614647333497\n",
      "processing lambda: 0.15\n",
      "Edges infected:  6133\n",
      "Edges infected:  6040\n",
      "lambda = 0.15, output_p = 1433.2076677316295, output_g = 1200.442369132465\n",
      "processing lambda: 0.2\n",
      "Edges infected:  8352\n",
      "Edges infected:  7894\n",
      "lambda = 0.2, output_p = 2668.7667731629394, output_g = 1597.384123863357\n",
      "processing lambda: 0.25\n",
      "Edges infected:  10086\n",
      "Edges infected:  10186\n",
      "lambda = 0.25, output_p = 3226.1449987711967, output_g = 1958.976652740231\n",
      "processing lambda: 0.3\n",
      "Edges infected:  12250\n",
      "Edges infected:  12154\n",
      "lambda = 0.3, output_p = 3578.866551978373, output_g = 2209.85598427132\n",
      "processing lambda: 0.4\n",
      "Edges infected:  16196\n",
      "Edges infected:  16257\n",
      "lambda = 0.4, output_p = 3888.105677070533, output_g = 2576.1742442860655\n",
      "processing lambda: 0.5\n",
      "Edges infected:  20407\n",
      "Edges infected:  20024\n",
      "lambda = 0.5, output_p = 4006.2590317031213, output_g = 2807.869746866552\n"
     ]
    }
   ],
   "source": [
    "mask_states0 = np.zeros(n)\n",
    "\n",
    "c_p_direc0 = np.zeros(len(lambda_means))\n",
    "c_g_direc0 = np.zeros(len(lambda_means))\n",
    "\n",
    "for idx, lambda_ in enumerate(lambda_means):\n",
    "    print(f\"processing lambda: {lambda_}\\r\")\n",
    "    c_p_direc0[idx] = SIR_djset_mask(n, edge_ls_p, lambda_, mask_states0, w, avg_n=n)\n",
    "    c_g_direc0[idx] = SIR_djset_mask(n, edge_ls_g, lambda_, mask_states0, w, avg_n=n)\n",
    "    print(f\"lambda = {lambda_}, output_p = {c_p_direc0[idx]}, output_g = {c_g_direc0[idx]}\")"
   ]
  },
  {
   "cell_type": "code",
   "execution_count": 11,
   "metadata": {},
   "outputs": [
    {
     "name": "stdout",
     "output_type": "stream",
     "text": [
      "20385\n",
      "20146\n"
     ]
    }
   ],
   "source": [
    "print(len(edge_ls_p)) # 20296\n",
    "print(len(edge_ls_g)) # 20251"
   ]
  },
  {
   "cell_type": "code",
   "execution_count": 18,
   "metadata": {},
   "outputs": [
    {
     "name": "stdout",
     "output_type": "stream",
     "text": [
      "[1.31555665e+00 2.08134677e+00 4.26075203e+00 3.40525928e+01\n",
      " 1.43320767e+03 2.66876677e+03 3.22614500e+03 3.57886655e+03\n",
      " 3.88810568e+03 4.00625903e+03]\n",
      "[1.66650283e+00 6.84000983e+00 1.64889408e+02 6.03161465e+02\n",
      " 1.20044237e+03 1.59738412e+03 1.95897665e+03 2.20985598e+03\n",
      " 2.57617424e+03 2.80786975e+03]\n"
     ]
    }
   ],
   "source": [
    "print(c_p_direc0)\n",
    "print(c_g_direc0)\n"
   ]
  },
  {
   "cell_type": "code",
   "execution_count": null,
   "metadata": {},
   "outputs": [],
   "source": [
    "# [1.31555665e+00 2.08134677e+00 4.26075203e+00 3.40525928e+01\n",
    "#  1.43320767e+03 2.66876677e+03 3.22614500e+03 3.57886655e+03\n",
    "#  3.88810568e+03 4.00625903e+03]\n",
    "# [1.66650283e+00 6.84000983e+00 1.64889408e+02 6.03161465e+02\n",
    "#  1.20044237e+03 1.59738412e+03 1.95897665e+03 2.20985598e+03\n",
    "#  2.57617424e+03 2.80786975e+03]\n"
   ]
  },
  {
   "cell_type": "code",
   "execution_count": null,
   "metadata": {},
   "outputs": [],
   "source": [
    "# # plot\n",
    "\n",
    "# colors = ['tab:blue', 'tab:orange', 'tab:green']\n",
    "# plt.figure()\n",
    "# for idx, pm in enumerate(pm_ary):\n",
    "#     plt.plot(lambda_means, output_c_p_mask[idx], 'o-', color = colors[idx], label=f\"p:{pm}\")\n",
    "#     plt.plot(lambda_means, output_c_g_mask[idx], '^--', color = colors[idx], label=f\"g:{pm}\")\n",
    "\n",
    "# plt.plot(lambda_means, output_c_p_0, 'o-', color = 'tab:red', label=\"p:0\")\n",
    "# plt.plot(lambda_means, output_c_g_0, '^--', color = 'tab:red', label=\"g:0\")\n",
    "\n",
    "# plt.xlabel(\"Mean of λ\")\n",
    "# plt.xscale(\"log\")\n",
    "# plt.ylabel(\"Total number of infections\")\n",
    "# plt.legend()\n",
    "# plt.show()"
   ]
  },
  {
   "cell_type": "code",
   "execution_count": 19,
   "metadata": {},
   "outputs": [
    {
     "data": {
      "image/png": "[encoded data removed]",
      "text/plain": [
       "<Figure size 640x480 with 1 Axes>"
      ]
     },
     "metadata": {},
     "output_type": "display_data"
    }
   ],
   "source": [
    "plt.plot(lambda_means, c_p_undirec0, 'o-', color = 'tab:blue', label='p:undirected')\n",
    "plt.plot(lambda_means, c_g_undirec0, '^--', color = 'tab:blue', label='g:undirected')\n",
    "plt.plot(lambda_means, c_p_direc0, 'o-', color = 'tab:orange', label='p:directed')\n",
    "plt.plot(lambda_means, c_g_direc0, '^--', color = 'tab:orange', label='g:directed')\n",
    "plt.xlabel(\"Infection probability λ\")\n",
    "plt.ylabel(\"Total number of infections\")\n",
    "plt.legend()\n",
    "plt.show()"
   ]
  },
  {
   "cell_type": "code",
   "execution_count": null,
   "metadata": {},
   "outputs": [],
   "source": [
    "lambda_means00 = np.linspace(0.0, 0.025, 11)\n",
    "mask_states00 = np.zeros(n)\n",
    "w = np.array([0.6, 0.4, 0.2])\n",
    "\n",
    "output_c_p_00 = np.zeros(len(lambda_means00))\n",
    "output_c_g_00 = np.zeros(len(lambda_means00))\n",
    "\n",
    "for idx, lambda_ in enumerate(lambda_means00):\n",
    "    print(f\"processing lambda: {lambda_}\\r\")\n",
    "    output_c_p_00[idx] = SIR_djset_mask(n, edge_ls_p, lambda_, mask_states00, w)\n",
    "    output_c_g_00[idx] = SIR_djset_mask(n, edge_ls_g, lambda_, mask_states00, w)\n",
    "    print(f\"lambda = {lambda_}, output_p = {output_c_p_00[idx]}, output_g = {output_c_g_00[idx]}\")"
   ]
  },
  {
   "cell_type": "code",
   "execution_count": null,
   "metadata": {},
   "outputs": [],
   "source": [
    "array_5 = [1.0, 109.0, 206.0, 277.0, 389.0, 457.0, 593.0, 637.0, 712.0, 817.0, 933.0]\n",
    "\n",
    "array_6 = [1.0, 85.0, 170.0, 272.0, 385.0, 438.0, 509.0, 603.0, 657.0, 705.0, 791.0]"
   ]
  },
  {
   "cell_type": "code",
   "execution_count": null,
   "metadata": {},
   "outputs": [],
   "source": [
    "plt.plot(lambda_means, c_p_undirec0, 'o-', color = 'tab:blue', label='p:undirected')\n",
    "plt.plot(lambda_means, c_g_undirec0, '^--', color = 'tab:blue', label='g:undirected')\n",
    "plt.plot(lambda_means, c_p_direc0, 'o-', color = 'tab:orange', label='p:directed')\n",
    "plt.plot(lambda_means, c_g_direc0, '^--', color = 'tab:orange', label='g:directed')\n",
    "\n",
    "plt.plot(lambda_means00, output_c_p_00, 'o-', color = 'tab:orange', label='p:directed0')\n",
    "plt.plot(lambda_means00, output_c_g_00, '^--', color = 'tab:orange', label='g:directed0')\n",
    "plt.xlabel(\"Infection probability λ\")\n",
    "plt.ylabel(\"Total number of infections\")\n",
    "plt.legend()\n",
    "plt.show()"
   ]
  },
  {
   "cell_type": "code",
   "execution_count": null,
   "metadata": {},
   "outputs": [],
   "source": []
  }
 ],
 "metadata": {
  "kernelspec": {
   "display_name": "SF5_env",
   "language": "python",
   "name": "python3"
  },
  "language_info": {
   "codemirror_mode": {
    "name": "ipython",
    "version": 3
   },
   "file_extension": ".py",
   "mimetype": "text/x-python",
   "name": "python",
   "nbconvert_exporter": "python",
   "pygments_lexer": "ipython3",
   "version": "3.11.9"
  }
 },
 "nbformat": 4,
 "nbformat_minor": 2
}
